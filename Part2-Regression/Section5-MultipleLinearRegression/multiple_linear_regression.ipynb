{
 "cells": [
  {
   "cell_type": "code",
   "execution_count": 81,
   "metadata": {
    "pycharm": {
     "is_executing": false
    }
   },
   "outputs": [],
   "source": [
    "import numpy as np\n",
    "import matplotlib.pyplot as plt\n",
    "import pandas as pd\n",
    "\n",
    "# Importing the dataset\n",
    "dataset = pd.read_csv(\"50_Startups.csv\")\n",
    "X = dataset.iloc[:, :-1].values\n",
    "y = dataset.iloc[:, 4].values\n",
    "\n"
   ]
  },
  {
   "cell_type": "code",
   "execution_count": 82,
   "metadata": {
    "pycharm": {
     "is_executing": false
    }
   },
   "outputs": [
    {
     "name": "stderr",
     "text": [
      "/Users/lavish.yadav/opt/anaconda3/envs/conda_base/lib/python3.7/site-packages/sklearn/preprocessing/_encoders.py:415: FutureWarning: The handling of integer data will change in version 0.22. Currently, the categories are determined based on the range [0, max(values)], while in the future they will be determined based on the unique values.\n",
      "If you want the future behaviour and silence this warning, you can specify \"categories='auto'\".\n",
      "In case you used a LabelEncoder before this OneHotEncoder to convert the categories to integers, then you can now use the OneHotEncoder directly.\n",
      "  warnings.warn(msg, FutureWarning)\n"
     ],
     "output_type": "stream"
    }
   ],
   "source": [
    "# Encoding categorical data\n",
    "from sklearn.preprocessing import LabelEncoder, OneHotEncoder\n",
    "from sklearn.compose import ColumnTransformer\n",
    "\n",
    "labelencoder_X = LabelEncoder()\n",
    "X[:, 3] = labelencoder_X.fit_transform(X[:, 3])\n",
    "\n",
    "ct = ColumnTransformer([('encoder', OneHotEncoder(), [3])], remainder='passthrough')\n",
    "X = np.array(ct.fit_transform(X), dtype=np.float)\n",
    "\n",
    "# Avoiding dummy variable trap\n",
    "X = X[:, 1:]\n"
   ]
  },
  {
   "cell_type": "code",
   "execution_count": 83,
   "metadata": {
    "pycharm": {
     "is_executing": false
    }
   },
   "outputs": [],
   "source": [
    "# Splitting the dataset into training and testing\n",
    "from sklearn.model_selection import train_test_split\n",
    "X_train, X_test, y_train, y_test = train_test_split(X, y, test_size=0.2, random_state=0)\n",
    "\n",
    "# Fitting multiple linear regression to Training set\n",
    "from sklearn.linear_model import LinearRegression\n",
    "regressor = LinearRegression()\n",
    "regressor.fit(X_train, y_train)\n",
    "\n",
    "# Predict the test set result\n",
    "y_pred = regressor.predict(X_test)\n"
   ]
  },
  {
   "cell_type": "code",
   "execution_count": 84,
   "metadata": {
    "pycharm": {
     "is_executing": false
    }
   },
   "outputs": [
    {
     "name": "stdout",
     "text": [
      "[[1.0000000e+00 1.6534920e+05]\n",
      " [1.0000000e+00 1.6259770e+05]\n",
      " [1.0000000e+00 1.5344151e+05]\n",
      " [1.0000000e+00 1.4437241e+05]\n",
      " [1.0000000e+00 1.4210734e+05]\n",
      " [1.0000000e+00 1.3187690e+05]\n",
      " [1.0000000e+00 1.3461546e+05]\n",
      " [1.0000000e+00 1.3029813e+05]\n",
      " [1.0000000e+00 1.2054252e+05]\n",
      " [1.0000000e+00 1.2333488e+05]\n",
      " [1.0000000e+00 1.0191308e+05]\n",
      " [1.0000000e+00 1.0067196e+05]\n",
      " [1.0000000e+00 9.3863750e+04]\n",
      " [1.0000000e+00 9.1992390e+04]\n",
      " [1.0000000e+00 1.1994324e+05]\n",
      " [1.0000000e+00 1.1452361e+05]\n",
      " [1.0000000e+00 7.8013110e+04]\n",
      " [1.0000000e+00 9.4657160e+04]\n",
      " [1.0000000e+00 9.1749160e+04]\n",
      " [1.0000000e+00 8.6419700e+04]\n",
      " [1.0000000e+00 7.6253860e+04]\n",
      " [1.0000000e+00 7.8389470e+04]\n",
      " [1.0000000e+00 7.3994560e+04]\n",
      " [1.0000000e+00 6.7532530e+04]\n",
      " [1.0000000e+00 7.7044010e+04]\n",
      " [1.0000000e+00 6.4664710e+04]\n",
      " [1.0000000e+00 7.5328870e+04]\n",
      " [1.0000000e+00 7.2107600e+04]\n",
      " [1.0000000e+00 6.6051520e+04]\n",
      " [1.0000000e+00 6.5605480e+04]\n",
      " [1.0000000e+00 6.1994480e+04]\n",
      " [1.0000000e+00 6.1136380e+04]\n",
      " [1.0000000e+00 6.3408860e+04]\n",
      " [1.0000000e+00 5.5493950e+04]\n",
      " [1.0000000e+00 4.6426070e+04]\n",
      " [1.0000000e+00 4.6014020e+04]\n",
      " [1.0000000e+00 2.8663760e+04]\n",
      " [1.0000000e+00 4.4069950e+04]\n",
      " [1.0000000e+00 2.0229590e+04]\n",
      " [1.0000000e+00 3.8558510e+04]\n",
      " [1.0000000e+00 2.8754330e+04]\n",
      " [1.0000000e+00 2.7892920e+04]\n",
      " [1.0000000e+00 2.3640930e+04]\n",
      " [1.0000000e+00 1.5505730e+04]\n",
      " [1.0000000e+00 2.2177740e+04]\n",
      " [1.0000000e+00 1.0002300e+03]\n",
      " [1.0000000e+00 1.3154600e+03]\n",
      " [1.0000000e+00 0.0000000e+00]\n",
      " [1.0000000e+00 5.4205000e+02]\n",
      " [1.0000000e+00 0.0000000e+00]]\n"
     ],
     "output_type": "stream"
    }
   ],
   "source": [
    "#Starting backward elimination\n",
    "import statsmodels.api as sm\n",
    "X = np.append(arr = np.ones((50,1)).astype(int), values= X, axis =1)\n",
    "\n",
    "def backwardElimination(x, sl):\n",
    "    numVars = len(x[0])\n",
    "    for i in range(0, numVars):\n",
    "        regressor_OLS = sm.OLS(y, x).fit()\n",
    "        maxVar = max(regressor_OLS.pvalues).astype(float)\n",
    "        if maxVar > sl:\n",
    "            for j in range(0, numVars - i):\n",
    "                if (regressor_OLS.pvalues[j].astype(float) == maxVar):\n",
    "                    x = np.delete(x, j, 1)\n",
    "    regressor_OLS.summary()\n",
    "    return x\n",
    " \n",
    "SL = 0.05\n",
    "X_opt = X[:, [0, 1, 2, 3, 4, 5]]\n",
    "X_Modeled = backwardElimination(X_opt, SL)\n",
    "print(X_Modeled)"
   ]
  },
  {
   "cell_type": "code",
   "execution_count": 84,
   "metadata": {
    "pycharm": {
     "is_executing": false
    }
   },
   "outputs": [],
   "source": [
    "\n"
   ]
  }
 ],
 "metadata": {
  "kernelspec": {
   "display_name": "Python 3",
   "language": "python",
   "name": "python3"
  },
  "language_info": {
   "codemirror_mode": {
    "name": "ipython",
    "version": 2
   },
   "file_extension": ".py",
   "mimetype": "text/x-python",
   "name": "python",
   "nbconvert_exporter": "python",
   "pygments_lexer": "ipython2",
   "version": "3.7.4"
  },
  "pycharm": {
   "stem_cell": {
    "cell_type": "raw",
    "source": [],
    "metadata": {
     "collapsed": false
    }
   }
  }
 },
 "nbformat": 4,
 "nbformat_minor": 0
}